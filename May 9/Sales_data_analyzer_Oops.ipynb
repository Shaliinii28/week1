{
  "nbformat": 4,
  "nbformat_minor": 0,
  "metadata": {
    "colab": {
      "provenance": []
    },
    "kernelspec": {
      "name": "python3",
      "display_name": "Python 3"
    },
    "language_info": {
      "name": "python"
    }
  },
  "cells": [
    {
      "cell_type": "code",
      "execution_count": 1,
      "metadata": {
        "id": "9G35-zJCrirR"
      },
      "outputs": [],
      "source": [
        "import pandas as pd\n",
        "import numpy as np\n",
        "import matplotlib.pyplot as plt\n",
        "import re\n",
        "from collections import Counter"
      ]
    },
    {
      "cell_type": "code",
      "source": [
        "class DataLoader:\n",
        "    \"\"\"Base class for loading and cleaning data\"\"\"\n",
        "    def __init__(self, file_path):\n",
        "        self.file_path = file_path\n",
        "        self.data = None\n",
        "\n",
        "    def load_data(self):\n",
        "        \"\"\"Load CSV file into a pandas DataFrame\"\"\"\n",
        "        try:\n",
        "            self.data = pd.read_csv(self.file_path, encoding='cp1252')\n",
        "            print(f\"Successfully loaded {self.file_path}\")\n",
        "        except FileNotFoundError:\n",
        "            print(f\"Error: File '{self.file_path}' not found.\")\n",
        "            self.data = None\n",
        "        except Exception as e:\n",
        "            print(f\"Error loading file: {e}\")\n",
        "            self.data = None\n",
        "        return self.data\n",
        "\n",
        "    def clean_data(self):\n",
        "        \"\"\"Clean and preprocess the data\"\"\"\n",
        "        if self.data is None:\n",
        "            print(\"No data to clean\")\n",
        "            return None\n",
        "        try:\n",
        "            self.data['ORDERDATE'] = pd.to_datetime(self.data['ORDERDATE'])\n",
        "            self.data['TOTAL_SALES'] = self.data['QUANTITYORDERED'] * self.data['PRICEEACH']\n",
        "            self.data['YEAR'] = self.data['ORDERDATE'].dt.year\n",
        "            self.data['MONTH'] = self.data['ORDERDATE'].dt.month\n",
        "            self.data = self.data.dropna(subset=['QUANTITYORDERED', 'PRICEEACH', 'ORDERDATE'])\n",
        "            print(\"Data cleaned successfully\")\n",
        "        except Exception as e:\n",
        "            print(f\"Error cleaning data: {e}\")\n",
        "            self.data = None\n",
        "        return self.data"
      ],
      "metadata": {
        "id": "97mbNLIYsOvx"
      },
      "execution_count": 2,
      "outputs": []
    },
    {
      "cell_type": "code",
      "source": [
        "class DataAnalyzer(DataLoader):\n",
        "    \"\"\"Class for analyzing sales data, inherits from DataLoader\"\"\"\n",
        "    def __init__(self, file_path):\n",
        "        super().__init__(file_path)\n",
        "\n",
        "    def analyze_yearly_sales(self):\n",
        "        \"\"\"Group data by year and sum total sales\"\"\"\n",
        "        if self.data is None:\n",
        "            print(\"No data to analyze\")\n",
        "            return None\n",
        "        try:\n",
        "            yearly_sales = self.data.groupby('YEAR')['TOTAL_SALES'].sum().reset_index()\n",
        "            print(\"\\nYearly Sales Summary:\")\n",
        "            print(yearly_sales)\n",
        "            return yearly_sales\n",
        "        except Exception as e:\n",
        "            print(f\"Error analyzing yearly sales: {e}\")\n",
        "            return None\n",
        "\n",
        "    def analyze_product_sales(self):\n",
        "        \"\"\"Group data by product line and sum total sales\"\"\"\n",
        "        if self.data is None:\n",
        "            print(\"No data to analyze\")\n",
        "            return None\n",
        "        try:\n",
        "            product_sales = self.data.groupby('PRODUCTLINE')['TOTAL_SALES'].sum().reset_index()\n",
        "            print(\"\\nProduct Line Sales:\")\n",
        "            print(product_sales)\n",
        "            return product_sales\n",
        "        except Exception as e:\n",
        "            print(f\"Error analyzing product sales: {e}\")\n",
        "            return None\n",
        "\n",
        "    def analyze_top_customers(self):\n",
        "        \"\"\"Group data by customer and get top 5 by total sales\"\"\"\n",
        "        if self.data is None:\n",
        "            print(\"No data to analyze\")\n",
        "            return None\n",
        "        try:\n",
        "            customer_sales = self.data.groupby('CUSTOMERNAME')['TOTAL_SALES'].sum().nlargest(5).reset_index()\n",
        "            print(\"\\nTop 5 Customers by Sales:\")\n",
        "            print(customer_sales)\n",
        "            return customer_sales\n",
        "        except Exception as e:\n",
        "            print(f\"Error analyzing customer sales: {e}\")\n",
        "            return None"
      ],
      "metadata": {
        "id": "ip94aOsWsLj3"
      },
      "execution_count": 3,
      "outputs": []
    },
    {
      "cell_type": "code",
      "source": [
        "class StatisticsCalculator:\n",
        "    \"\"\"Class for calculating statistics using NumPy\"\"\"\n",
        "    def __init__(self, data):\n",
        "        self.data = data\n",
        "\n",
        "    def calculate_statistics(self):\n",
        "        \"\"\"Calculate mean, median, and standard deviation\"\"\"\n",
        "        if self.data is None or 'TOTAL_SALES' not in self.data.columns:\n",
        "            print(\"No valid data for statistics\")\n",
        "            return None\n",
        "        try:\n",
        "            total_sales = self.data['TOTAL_SALES'].values\n",
        "            mean_sales = np.mean(total_sales)\n",
        "            median_sales = np.median(total_sales)\n",
        "            std_sales = np.std(total_sales)\n",
        "\n",
        "            print(\"\\nSales Statistics:\")\n",
        "            print(f\"Mean Sales: ${mean_sales:.2f}\")\n",
        "            print(f\"Median Sales: ${median_sales:.2f}\")\n",
        "            print(f\"Standard Deviation: ${std_sales:.2f}\")\n",
        "            return mean_sales, median_sales, std_sales\n",
        "        except Exception as e:\n",
        "            print(f\"Error calculating statistics: {e}\")\n",
        "            return None"
      ],
      "metadata": {
        "id": "iHilbHa6sG5L"
      },
      "execution_count": 4,
      "outputs": []
    },
    {
      "cell_type": "code",
      "source": [
        "class WordCounter:\n",
        "    \"\"\"Class for counting word frequencies in a text field\"\"\"\n",
        "    def __init__(self, data):\n",
        "        self.data = data\n",
        "\n",
        "    def count_words(self, field):\n",
        "        \"\"\"Count word frequencies in the specified field (reused from prior program)\"\"\"\n",
        "        if self.data is None or field not in self.data.columns:\n",
        "            print(f\"No valid data or field '{field}' not found\")\n",
        "            return None\n",
        "        try:\n",
        "            text = ' '.join(self.data[field].astype(str).str.lower())\n",
        "            words = re.findall(r'\\b\\w+\\b', text)\n",
        "            word_counts = Counter(words)\n",
        "            sorted_counts = sorted(word_counts.items(), key=lambda x: (-x[1], x[0]))\n",
        "\n",
        "            print(f\"\\nTop 5 Words in {field}:\")\n",
        "            for word, count in sorted_counts[:5]:\n",
        "                print(f\"{word}: {count}\")\n",
        "            return word_counts\n",
        "        except Exception as e:\n",
        "            print(f\"Error counting words: {e}\")\n",
        "            return None"
      ],
      "metadata": {
        "id": "tRfWELk2sD-u"
      },
      "execution_count": 5,
      "outputs": []
    },
    {
      "cell_type": "code",
      "source": [
        "class Plotter:\n",
        "    \"\"\"Class for plotting data\"\"\"\n",
        "    def __init__(self, yearly_sales):\n",
        "        self.yearly_sales = yearly_sales\n",
        "\n",
        "    def plot_bar_chart(self):\n",
        "        \"\"\"Plot a bar chart of yearly sales\"\"\"\n",
        "        if self.yearly_sales is None:\n",
        "            print(\"No data to plot\")\n",
        "            return\n",
        "        try:\n",
        "            plt.figure(figsize=(10, 6))\n",
        "            plt.bar(self.yearly_sales['YEAR'].astype(str), self.yearly_sales['TOTAL_SALES'], color='skyblue')\n",
        "            plt.title('Annual Sales Revenue', fontsize=16)\n",
        "            plt.xlabel('Year', fontsize=12)\n",
        "            plt.ylabel('Total Sales ($)', fontsize=12)\n",
        "            plt.grid(True, axis='y', linestyle='--', alpha=0.7)\n",
        "            plt.savefig('annual_sales.png')\n",
        "            plt.show()\n",
        "            print(\"\\nBar chart saved as 'annual_sales.png'\")\n",
        "        except Exception as e:\n",
        "            print(f\"Error plotting chart: {e}\")"
      ],
      "metadata": {
        "id": "E5ehoCV3sBA4"
      },
      "execution_count": 6,
      "outputs": []
    },
    {
      "cell_type": "code",
      "source": [
        "class ResultSaver:\n",
        "    \"\"\"Class for saving analysis results\"\"\"\n",
        "    def __init__(self, yearly_sales, product_sales, customer_sales):\n",
        "        self.yearly_sales = yearly_sales\n",
        "        self.product_sales = product_sales\n",
        "        self.customer_sales = customer_sales\n",
        "\n",
        "    def save_results(self, filename=\"analysis_results.txt\"):\n",
        "        \"\"\"Save analysis results to a text file\"\"\"\n",
        "        if any(x is None for x in [self.yearly_sales, self.product_sales, self.customer_sales]):\n",
        "            print(\"Incomplete data for saving results\")\n",
        "            return\n",
        "        try:\n",
        "            with open(filename, 'w') as file:\n",
        "                file.write(\"Sales Analysis Results\\n\\n\")\n",
        "                file.write(\"Yearly Sales Summary:\\n\")\n",
        "                file.write(self.yearly_sales.to_string(index=False))\n",
        "                file.write(\"\\n\\nProduct Line Sales:\\n\")\n",
        "                file.write(self.product_sales.to_string(index=False))\n",
        "                file.write(\"\\n\\nTop 5 Customers:\\n\")\n",
        "                file.write(self.customer_sales.to_string(index=False))\n",
        "            print(f\"Analysis results saved to {filename}\")\n",
        "        except Exception as e:\n",
        "            print(f\"Error saving results: {e}\")"
      ],
      "metadata": {
        "id": "mAcATXm6r7v6"
      },
      "execution_count": 7,
      "outputs": []
    },
    {
      "cell_type": "code",
      "source": [
        "file_path = \"sales_data_sample.csv\"\n",
        "\n",
        "# Load and clean data\n",
        "analyzer = DataAnalyzer(file_path)\n",
        "analyzer.load_data()\n",
        "data = analyzer.clean_data()\n",
        "\n",
        "if data is not None:\n",
        "    # Analyze data\n",
        "    yearly_sales = analyzer.analyze_yearly_sales()\n",
        "    product_sales = analyzer.analyze_product_sales()\n",
        "    customer_sales = analyzer.analyze_top_customers()\n",
        "\n",
        "    # Calculate statistics\n",
        "    stats_calc = StatisticsCalculator(data)\n",
        "    stats_calc.calculate_statistics()\n",
        "\n",
        "    # Count words\n",
        "    word_counter = WordCounter(data)\n",
        "    word_counter.count_words('CUSTOMERNAME')\n",
        "\n",
        "    # Plot chart\n",
        "    plotter = Plotter(yearly_sales)\n",
        "    plotter.plot_bar_chart()\n",
        "\n",
        "    # Save results\n",
        "    saver = ResultSaver(yearly_sales, product_sales, customer_sales)\n",
        "    saver.save_results()"
      ],
      "metadata": {
        "colab": {
          "base_uri": "https://localhost:8080/",
          "height": 1000
        },
        "id": "4KvK9OEhrydZ",
        "outputId": "ac742327-92aa-414e-fb93-41b629631484"
      },
      "execution_count": 8,
      "outputs": [
        {
          "output_type": "stream",
          "name": "stdout",
          "text": [
            "Successfully loaded sales_data_sample.csv\n",
            "Data cleaned successfully\n",
            "\n",
            "Yearly Sales Summary:\n",
            "   YEAR  TOTAL_SALES\n",
            "0  2003   2898149.94\n",
            "1  2004   3913700.87\n",
            "2  2005   1479035.98\n",
            "\n",
            "Product Line Sales:\n",
            "        PRODUCTLINE  TOTAL_SALES\n",
            "0      Classic Cars   2968546.40\n",
            "1       Motorcycles    971086.29\n",
            "2            Planes    877942.21\n",
            "3             Ships    677940.40\n",
            "4            Trains    203804.26\n",
            "5  Trucks and Buses    947355.18\n",
            "6      Vintage Cars   1644212.05\n",
            "\n",
            "Top 5 Customers by Sales:\n",
            "                   CUSTOMERNAME  TOTAL_SALES\n",
            "0         Euro Shopping Channel    766195.05\n",
            "1  Mini Gifts Distributors Ltd.    530587.19\n",
            "2    Australian Collectors, Co.    164575.87\n",
            "3             La Rochelle Gifts    153909.82\n",
            "4            Muscle Machine Inc    151782.04\n",
            "\n",
            "Sales Statistics:\n",
            "Mean Sales: $2936.91\n",
            "Median Sales: $2800.00\n",
            "Standard Deviation: $1105.45\n",
            "\n",
            "Top 5 Words in CUSTOMERNAME:\n",
            "co: 691\n",
            "ltd: 544\n",
            "gifts: 410\n",
            "mini: 393\n",
            "inc: 388\n"
          ]
        },
        {
          "output_type": "display_data",
          "data": {
            "text/plain": [
              "<Figure size 1000x600 with 1 Axes>"
            ],
            "image/png": "[encoded data removed]"
          },
          "metadata": {}
        },
        {
          "output_type": "stream",
          "name": "stdout",
          "text": [
            "\n",
            "Bar chart saved as 'annual_sales.png'\n",
            "Analysis results saved to analysis_results.txt\n"
          ]
        }
      ]
    }
  ]
}